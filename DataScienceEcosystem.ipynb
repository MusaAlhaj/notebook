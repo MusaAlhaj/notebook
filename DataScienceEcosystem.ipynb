{
 "cells": [
  {
   "cell_type": "markdown",
   "id": "88f73d88-14c4-41d6-a488-1971c1d36210",
   "metadata": {
    "tags": []
   },
   "source": [
    "# Data Science Tools and Ecosystem"
   ]
  },
  {
   "cell_type": "markdown",
   "id": "7d7f0cef-5817-4b5e-a4c4-d5b5a73fef3b",
   "metadata": {
    "tags": []
   },
   "source": [
    "## In this notebook, Data Science Tools and Ecosystem are summarized."
   ]
  },
  {
   "cell_type": "markdown",
   "id": "49de9b4f-e527-4ee8-8136-72e757f1aeb1",
   "metadata": {},
   "source": [
    "#### **Objectives**\n",
    "- Most common libraries used by data scientists\n",
    "- Popular languages for data scientists\n",
    "- Data science tools "
   ]
  },
  {
   "cell_type": "markdown",
   "id": "9ea783dc-4a16-485a-be6a-e5222969467e",
   "metadata": {
    "tags": []
   },
   "source": [
    "### Some of the popular language\n",
    "- Python\n",
    "- R\n",
    "- Java"
   ]
  },
  {
   "cell_type": "markdown",
   "id": "368ae92a-ddda-45f4-b377-b3a0d16d0c57",
   "metadata": {},
   "source": [
    "### Some of the commonly used libraries used by Data Scientists include:\n",
    "1. NumPy\n",
    "2. Keras\n",
    "3. PyTorch\n",
    "4. SciPy\n",
    "5. Seaborn"
   ]
  },
  {
   "cell_type": "markdown",
   "id": "5730d6c6-7af6-466a-bc1e-977022ee0ef4",
   "metadata": {},
   "source": [
    " |Data Science Tools|\n",
    " |------------------|\n",
    " | RStudio |\n",
    " |Apache Spark|\n",
    " |TensorFlow|\n"
   ]
  },
  {
   "cell_type": "markdown",
   "id": "7ce6b9cd-34ac-41da-a545-10c78b60dc6d",
   "metadata": {},
   "source": [
    "### Below are a few examples of evaluating arithmetic expressions in Python"
   ]
  },
  {
   "cell_type": "code",
   "execution_count": 2,
   "id": "ceeeea06-a919-4e5e-8983-c97447e3a51b",
   "metadata": {
    "tags": []
   },
   "outputs": [
    {
     "data": {
      "text/plain": [
       "17"
      ]
     },
     "execution_count": 2,
     "metadata": {},
     "output_type": "execute_result"
    }
   ],
   "source": [
    "(3*4)+5"
   ]
  },
  {
   "cell_type": "code",
   "execution_count": 3,
   "id": "34800996-499b-404d-87bd-767ecd0805ac",
   "metadata": {
    "tags": []
   },
   "outputs": [
    {
     "name": "stdout",
     "output_type": "stream",
     "text": [
      "3.3333333333333335\n"
     ]
    }
   ],
   "source": [
    "a = 200\n",
    "b = a/60\n",
    "print(b)\n"
   ]
  },
  {
   "cell_type": "code",
   "execution_count": null,
   "id": "2734652b-1e6c-4ecc-87d8-abe128f542f2",
   "metadata": {},
   "outputs": [],
   "source": []
  },
  {
   "cell_type": "markdown",
   "id": "a96c1bbf-7b5d-4241-8552-e48c68f72d07",
   "metadata": {},
   "source": [
    "## Author:\n",
    "Musa Ibrahim"
   ]
  },
  {
   "cell_type": "code",
   "execution_count": null,
   "id": "52c1a5a7-5bd8-482e-aee3-03e88427ab12",
   "metadata": {},
   "outputs": [],
   "source": []
  }
 ],
 "metadata": {
  "kernelspec": {
   "display_name": "Python",
   "language": "python",
   "name": "conda-env-python-py"
  },
  "language_info": {
   "codemirror_mode": {
    "name": "ipython",
    "version": 3
   },
   "file_extension": ".py",
   "mimetype": "text/x-python",
   "name": "python",
   "nbconvert_exporter": "python",
   "pygments_lexer": "ipython3",
   "version": "3.7.12"
  }
 },
 "nbformat": 4,
 "nbformat_minor": 5
}
